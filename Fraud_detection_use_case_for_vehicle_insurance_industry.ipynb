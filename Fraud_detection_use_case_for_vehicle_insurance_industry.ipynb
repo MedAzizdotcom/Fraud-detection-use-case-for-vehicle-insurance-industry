{
  "nbformat": 4,
  "nbformat_minor": 0,
  "metadata": {
    "colab": {
      "private_outputs": true,
      "provenance": [],
      "gpuType": "T4"
    },
    "kernelspec": {
      "name": "python3",
      "display_name": "Python 3"
    },
    "language_info": {
      "name": "python"
    },
    "accelerator": "GPU"
  },
  "cells": [
    {
      "cell_type": "markdown",
      "source": [
        "#Data Understanding and Initial Checks"
      ],
      "metadata": {
        "id": "aPK7IvbZz57o"
      }
    },
    {
      "cell_type": "code",
      "source": [
        "from google.colab import drive\n",
        "drive.mount('/content/drive')"
      ],
      "metadata": {
        "id": "Zy-aWpPLz5nv"
      },
      "execution_count": null,
      "outputs": []
    },
    {
      "cell_type": "code",
      "execution_count": null,
      "metadata": {
        "id": "UO09JLWjzONj"
      },
      "outputs": [],
      "source": [
        "import pandas as pd\n",
        "df = pd.read_csv('/content/drive/MyDrive/A2D2/fraud_oracle.csv')\n",
        "df.head()"
      ]
    },
    {
      "cell_type": "code",
      "source": [
        "num_rows, num_columns = df.shape\n",
        "print(f\"The dataset contains {num_rows} rows and {num_columns} columns.\")"
      ],
      "metadata": {
        "id": "1qdl0SHM0XNj"
      },
      "execution_count": null,
      "outputs": []
    },
    {
      "cell_type": "code",
      "source": [
        "df.columns.tolist()"
      ],
      "metadata": {
        "id": "d0tatQbj0syX"
      },
      "execution_count": null,
      "outputs": []
    },
    {
      "cell_type": "markdown",
      "source": [
        "=>Well-structured dataset for Vehicle Insurance Claim Fraud Detection, covering various features related to both the insured person and the claim event."
      ],
      "metadata": {
        "id": "Sa6oc-jE1Xbj"
      }
    },
    {
      "cell_type": "markdown",
      "source": [
        "###Overview of the key columns"
      ],
      "metadata": {
        "id": "H0W7eyQ313rw"
      }
    },
    {
      "cell_type": "markdown",
      "source": [
        "**Temporal Features:**\n",
        "\n",
        "\n",
        "\n",
        "\n",
        "\n",
        "\n",
        "*  Month, WeekOfMonth, DayOfWeek: These capture the date of the accident. Anomalies in the time of accidents might indicate fraudulent behavior.\n",
        "*   DayOfWeekClaimed, MonthClaimed, WeekOfMonthClaimed: These show when the claim was made. A large gap between the accident and the claim date may raise suspicion.\n"
      ],
      "metadata": {
        "id": "kWhDMPwU17VC"
      }
    },
    {
      "cell_type": "markdown",
      "source": [
        "**Demographics and Driver Information:**\n",
        "\n",
        "\n",
        "\n",
        "\n",
        "*   Sex, MaritalStatus, Age, AgeOfPolicyHolder: Demographic details can help identify if certain groups are more likely to commit fraud.\n",
        "\n",
        "\n"
      ],
      "metadata": {
        "id": "weihQWNs2WTU"
      }
    },
    {
      "cell_type": "markdown",
      "source": [
        "**Accident and Claim Details:**\n",
        "\n",
        "\n",
        "*   AccidentArea: Whether the accident occurred in an urban or rural area can be significant.\n",
        "*   Fault: Who was at fault in the accident may influence the claim's legitimacy.\n",
        "\n",
        "\n",
        "*   PastNumberOfClaims, Days_Policy_Accident, Days_Policy_Claim: A history of frequent claims or new policies may suggest fraud.\n",
        "\n",
        "\n",
        "\n",
        "\n"
      ],
      "metadata": {
        "id": "nAgHIJrP28Ui"
      }
    },
    {
      "cell_type": "markdown",
      "source": [
        "**Policy and Vehicle Information:**\n",
        "\n",
        "\n",
        "\n",
        "\n",
        "*   PolicyType, VehicleCategory, VehiclePrice, BasePolicy: Different types of policies and vehicle characteristics could correlate with fraudulent claims."
      ],
      "metadata": {
        "id": "YcQ2KNdl3fAH"
      }
    },
    {
      "cell_type": "markdown",
      "source": [
        "\n",
        "**Claim Investigation:**\n",
        "\n",
        "\n",
        "\n",
        "*   PoliceReportFiled, WitnessPresent, AgentType: The presence of witnesses or police reports often impacts the claim's credibility.\n",
        "\n",
        "\n",
        "\n",
        "\n",
        "**Fraud Indicator:**\n",
        "\n",
        "\n",
        "\n",
        "\n",
        "*   FraudFound_P: This is likely the target variable, indicating whether fraud was detected in the claim.\n",
        "\n",
        "\n"
      ],
      "metadata": {
        "id": "V-XM_i5p3t_N"
      }
    },
    {
      "cell_type": "markdown",
      "source": [
        "=> A row in our dataset represents a single insurance claim made by a policyholder.\n",
        "\n",
        "=>Each column provides specific information related to the claim, the policyholder, the insured vehicle, and the context of the incident."
      ],
      "metadata": {
        "id": "m-su9h7KPuN8"
      }
    },
    {
      "cell_type": "markdown",
      "source": [
        "#Comprehensive Exploratory Data Analysis (EDA)"
      ],
      "metadata": {
        "id": "9BeurenE5Jpx"
      }
    },
    {
      "cell_type": "markdown",
      "source": [
        "###01.Data Overview"
      ],
      "metadata": {
        "id": "ENDpa99t6_Zb"
      }
    },
    {
      "cell_type": "code",
      "source": [
        "df.info()  # Get information about data types and missing values"
      ],
      "metadata": {
        "id": "UgMMA2Aj5UjQ"
      },
      "execution_count": null,
      "outputs": []
    },
    {
      "cell_type": "code",
      "source": [
        "df.describe(include='object').T # Summary statistics for categorical data"
      ],
      "metadata": {
        "id": "psstl-AH5ggy"
      },
      "execution_count": null,
      "outputs": []
    },
    {
      "cell_type": "code",
      "source": [
        "df.describe()  # Summary statistics for numerical data"
      ],
      "metadata": {
        "id": "BCQBtR3X5s9A"
      },
      "execution_count": null,
      "outputs": []
    },
    {
      "cell_type": "code",
      "source": [
        "# Check for missing values\n",
        "df.isnull().sum()"
      ],
      "metadata": {
        "id": "pkb94Rgl5k1r"
      },
      "execution_count": null,
      "outputs": []
    },
    {
      "cell_type": "markdown",
      "source": [
        "Good No Missing values ."
      ],
      "metadata": {
        "id": "9QMGeF3p6JOS"
      }
    },
    {
      "cell_type": "code",
      "source": [
        "duplicate_rows = df.duplicated() # Check for duplicates\n",
        "print(f\"Number of duplicate rows: {duplicate_rows.sum()}\")"
      ],
      "metadata": {
        "id": "2hykKyfd6HYl"
      },
      "execution_count": null,
      "outputs": []
    },
    {
      "cell_type": "markdown",
      "source": [
        "NO duplicate rows"
      ],
      "metadata": {
        "id": "pXFO8ZTF6tOE"
      }
    },
    {
      "cell_type": "markdown",
      "source": [
        "###02.Univariate Analysis"
      ],
      "metadata": {
        "id": "DOtAifou7Ktt"
      }
    },
    {
      "cell_type": "markdown",
      "source": [
        "Univariate analysis examines each variable individually to understand its distribution, central tendency (mean, median), spread (variance, standard deviation), and outliers. This analysis provides a foundation for detecting any data issues or significant patterns."
      ],
      "metadata": {
        "id": "sXbYreBY7g6C"
      }
    },
    {
      "cell_type": "markdown",
      "source": [
        "**Analysis of Categorical Variables**"
      ],
      "metadata": {
        "id": "zOMVAw8xQv9y"
      }
    },
    {
      "cell_type": "code",
      "source": [
        "categorical_cols = ['Make', 'AccidentArea', 'Sex', 'MaritalStatus', 'Fault', 'PolicyType', 'VehicleCategory', 'FraudFound_P']"
      ],
      "metadata": {
        "id": "eYH8uDKr0s-l"
      },
      "execution_count": null,
      "outputs": []
    },
    {
      "cell_type": "code",
      "source": [
        "import seaborn as sns\n",
        "import matplotlib.pyplot as plt\n",
        "\n",
        "\n",
        "num_cols = 4\n",
        "num_rows = 2\n",
        "fig, axes = plt.subplots(num_rows, num_cols, figsize=(25, 10))\n",
        "axes = axes.flatten()\n",
        "\n",
        "# Plotting the count distributions for categorical variables\n",
        "for i, col in enumerate(categorical_cols):\n",
        "    sns.countplot(x=col, data=df, palette='Set2', order=df[col].value_counts().index, ax=axes[i])\n",
        "    axes[i].set_title(f'Distribution of {col}', fontsize=14)\n",
        "    axes[i].set_xlabel(col, fontsize=12)\n",
        "    axes[i].set_ylabel('Count', fontsize=12)\n",
        "    axes[i].tick_params(axis='x', rotation=45)\n",
        "\n",
        "plt.tight_layout()\n",
        "plt.show()"
      ],
      "metadata": {
        "id": "qoGyrW1z7yS7"
      },
      "execution_count": null,
      "outputs": []
    },
    {
      "cell_type": "markdown",
      "source": [
        "**Make:**\n",
        "\n",
        "*Dominance of common car makes:*\n",
        "\n",
        "-Pontiac, Toyota, and Honda are the most frequent car brands in the dataset. This likely indicates that these makes are more commonly insured or involved in claims, which could be due to their widespread use in the population.\n",
        "\n",
        "-On the other hand, luxury brands like Ferrari and Porsche have fewer occurrences, which makes sense because fewer people own luxury cars.\n",
        "\n",
        "Implication for fraud detection:\n",
        "\n",
        "-It’s worth investigating whether certain makes are more associated with fraud. -For example, luxury cars, though rare, might have a different fraud rate compared to more common makes like Toyota or Honda."
      ],
      "metadata": {
        "id": "1k1VGN7lDbTB"
      }
    },
    {
      "cell_type": "markdown",
      "source": [
        "**Fault:**\n",
        "\n",
        "*Policyholder at fault:*\n",
        "\n",
        "Most claims attribute fault to the policyholder rather than a third party. => This could reflect the nature of insurance claims, where policyholders are more likely to report incidents where they are involved directly.\n",
        "\n",
        "Implication for fraud detection:\n",
        "\n",
        "=>A deeper look could reveal if claims where the policyholder is at fault have different fraud rates.\n",
        "\n",
        "=>For example, policyholders who admit fault might be more honest, or certain types of fraudulent behavior might involve third-party blame."
      ],
      "metadata": {
        "id": "SQ8-fU0oE2GK"
      }
    },
    {
      "cell_type": "markdown",
      "source": [
        "**Policy Type:**\n",
        "\n",
        "*Sedan policies dominate:*  \n",
        "\n",
        "Most claims come from sedan owners, especially in collision and liability cases. This reflects the common use of sedans as personal vehicles. Other vehicle types, such as utility and sport vehicles, have fewer claims.\n",
        "\n",
        "Implication for fraud detection:\n",
        "\n",
        "-Since sedans are common, it’s crucial to assess whether certain policy types are more prone to fraud.\n",
        "\n",
        "-For example, “All Perils” policies might attract more fraudulent claims than “Collision” or “Liability” types due to their broader coverage."
      ],
      "metadata": {
        "id": "oqR0E3FiFcqA"
      }
    },
    {
      "cell_type": "code",
      "source": [
        "fraud_counts = df['FraudFound_P'].value_counts().reset_index()\n",
        "fraud_counts.columns = ['FraudFound_P', 'Count']\n",
        "fraud_counts"
      ],
      "metadata": {
        "id": "fjd62sgGsIoT"
      },
      "execution_count": null,
      "outputs": []
    },
    {
      "cell_type": "code",
      "source": [
        "import plotly.express as px\n",
        "# Pie Chart : Target Balance\n",
        "fig = px.pie(fraud_counts, names='FraudFound_P', values='Count', color='FraudFound_P',\n",
        "            color_discrete_map={0: '#87CEFA', 1:'FF6F61'})\n",
        "\n",
        "fig.update_traces(\n",
        "    textinfo='percent',\n",
        "    textfont={'size': 16, 'color': 'Black'},\n",
        "    marker=dict(line=dict(color='black', width=2)))\n",
        "\n",
        "fig.update_layout(\n",
        "    title={\n",
        "        'text': 'Target Balance',\n",
        "        'x':0.5,\n",
        "        'font': {'family': \"Arial, sans-serif\", 'size': 24}\n",
        "    })\n",
        "\n",
        "fig.show()"
      ],
      "metadata": {
        "id": "QtUdIcVorPxV"
      },
      "execution_count": null,
      "outputs": []
    },
    {
      "cell_type": "markdown",
      "source": [
        "**FraudFound_P:**\n",
        "\n",
        "*Low fraud rate:*\n",
        "\n",
        "Only a small fraction of claims are marked as fraudulent. This is typical in fraud detection, where fraudulent claims are a small subset of the total claims.\n",
        "\n",
        "=>Implication for fraud detection: Since fraud cases are rare, this class imbalance could make it harder to detect fraud accurately using machine learning.\n",
        "\n",
        "=>It will be essential to focus on techniques that handle imbalanced datasets to ensure the model performs well in identifying fraud."
      ],
      "metadata": {
        "id": "_H2DKVhsrfnb"
      }
    },
    {
      "cell_type": "markdown",
      "source": [
        "**Analysis of Numerical Variables**"
      ],
      "metadata": {
        "id": "LlTCf3WHQ3Cm"
      }
    },
    {
      "cell_type": "code",
      "source": [
        "#DriverRating Distribution\n",
        "import seaborn as sns\n",
        "driver_rating_counts = df['DriverRating'].value_counts()\n",
        "\n",
        "labels = driver_rating_counts.index\n",
        "sizes = driver_rating_counts.values\n",
        "\n",
        "pastel_colors = sns.color_palette(\"pastel\", len(labels))\n",
        "\n",
        "plt.figure(figsize=(8, 8))\n",
        "plt.pie(sizes, labels=labels, autopct='%1.1f%%', startangle=140, colors=pastel_colors)\n",
        "plt.title('Driver Rating Distribution', fontsize=16)\n",
        "plt.axis('equal')\n",
        "plt.show()"
      ],
      "metadata": {
        "id": "hSSZtTsvRE0b"
      },
      "execution_count": null,
      "outputs": []
    },
    {
      "cell_type": "code",
      "source": [
        "# Plotting the histogram for age distribution\n",
        "plt.figure(figsize=(10, 6))\n",
        "sns.histplot(df['Age'], bins=30, kde=True, color='skyblue', edgecolor='black')\n",
        "plt.title('Age Distribution', fontsize=16)\n",
        "plt.xlabel('Age', fontsize=14)\n",
        "plt.ylabel('Frequency', fontsize=14)\n",
        "plt.xticks(rotation=45)\n",
        "plt.grid(axis='y')\n",
        "plt.show()"
      ],
      "metadata": {
        "id": "Ss8-a40ASAu8"
      },
      "execution_count": null,
      "outputs": []
    },
    {
      "cell_type": "markdown",
      "source": [
        "**Deductible Distribution:**\n",
        "\n",
        "-Deductible: The plot  shows the distribution of deductibles, with most claims falling between 400 and 500.\n",
        "\n",
        "-Outliers around 300 and 700 suggest rare cases where the deductible is unusually low or high.\n",
        "\n",
        "**Fraud Correlation:** =>It would be useful to check if deductibles correlate with fraud occurrences (i.e., the FraudFound_P column). Higher or lower deductibles might suggest riskier claims or fraudulent activity, depending on how these outliers align with fraud flags."
      ],
      "metadata": {
        "id": "TSlmUfwVw-89"
      }
    },
    {
      "cell_type": "markdown",
      "source": [
        "**Characteristic of Dataset:**"
      ],
      "metadata": {
        "id": "x1zby38d7shL"
      }
    },
    {
      "cell_type": "code",
      "source": [
        "# Function01: Summarize the characteristic of dataset\n",
        "def summarize(DataFrame):\n",
        "\n",
        "    summary = pd.DataFrame()\n",
        "\n",
        "    # Data Type\n",
        "    summary['Data Type'] = DataFrame.dtypes\n",
        "    # N Unique\n",
        "    summary['N Unique'] = DataFrame.nunique()\n",
        "    # Unique\n",
        "    summary['Unique'] = DataFrame.apply(lambda x: x.unique().tolist())\n",
        "    # Max\n",
        "    summary['Max'] = DataFrame.apply(lambda x: x.max() if pd.api.types.is_numeric_dtype(x) else '-')\n",
        "    # Min\n",
        "    summary['Min'] = DataFrame.apply(lambda x: x.min() if pd.api.types.is_numeric_dtype(x) else '-')\n",
        "\n",
        "    # Measures of Central Tendency: Mean, Median, Mode\n",
        "    summary['Mean'] = DataFrame.apply(lambda x: round(x.mean(), 2) if pd.api.types.is_numeric_dtype(x) else '-')\n",
        "    summary['Median'] = DataFrame.apply(lambda x: x.median() if pd.api.types.is_numeric_dtype(x) else '-')\n",
        "    summary['Mode'] = DataFrame.apply(lambda x: x.mode().iloc[0] if not x.mode().empty else '-')\n",
        "\n",
        "    # Measures of Dispersion: Range, Variance, Standard Deviation\n",
        "    summary['Range'] = DataFrame.apply(lambda x: x.max() - x.min() if pd.api.types.is_numeric_dtype(x) else '-')\n",
        "    summary['Variance'] = DataFrame.apply(lambda x: x.var() if pd.api.types.is_numeric_dtype(x) else '-')\n",
        "    summary['Standard Deviation'] = DataFrame.apply(lambda x: x.std() if pd.api.types.is_numeric_dtype(x) else '-')\n",
        "\n",
        "    # Measures of Shape: Skewness, Kurtosis\n",
        "    summary['Skewness'] = DataFrame.apply(lambda x: round(x.skew(), 2) if pd.api.types.is_numeric_dtype(x) else '-')\n",
        "    summary['Kurtosis'] = DataFrame.apply(lambda x: round(x.kurt(), 2) if pd.api.types.is_numeric_dtype(x) else '-')\n",
        "\n",
        "    return summary"
      ],
      "metadata": {
        "id": "WKijvBCM7xJx"
      },
      "execution_count": null,
      "outputs": []
    },
    {
      "cell_type": "code",
      "source": [
        "summary = summarize(df)\n",
        "summary"
      ],
      "metadata": {
        "id": "9VRTa7Bg74Xw"
      },
      "execution_count": null,
      "outputs": []
    },
    {
      "cell_type": "markdown",
      "source": [
        "###3. Bivariate Analysis"
      ],
      "metadata": {
        "id": "B_gCbbq7xTJL"
      }
    },
    {
      "cell_type": "markdown",
      "source": [
        "This helps us explore relationships between two variables, particularly between features and the target variable (FraudFound_P)."
      ],
      "metadata": {
        "id": "XxYq0hzxxkpB"
      }
    },
    {
      "cell_type": "code",
      "source": [
        "df_fraud = df[df['FraudFound_P'] == 1]\n",
        "df_non_fraud = df[df['FraudFound_P'] == 0]\n",
        "df_fraud"
      ],
      "metadata": {
        "id": "Uxl3jBej1vxB"
      },
      "execution_count": null,
      "outputs": []
    },
    {
      "cell_type": "markdown",
      "source": [
        "**Fraud Detection by Sex**"
      ],
      "metadata": {
        "id": "_5rCKKGu2fvy"
      }
    },
    {
      "cell_type": "code",
      "source": [
        "fraud_counts_sex = df_fraud['Sex'].value_counts()\n",
        "fraud_percentages_sex = (fraud_counts_sex / fraud_counts_sex.sum()) * 100\n",
        "print(fraud_percentages_sex)"
      ],
      "metadata": {
        "id": "Z1JiyJxo2AIl"
      },
      "execution_count": null,
      "outputs": []
    },
    {
      "cell_type": "code",
      "source": [
        "import plotly.graph_objects as go\n",
        "fig = go.Figure()\n",
        "\n",
        "\n",
        "fig.add_trace(go.Bar(\n",
        "    x=fraud_counts_sex.index,\n",
        "    y=fraud_counts_sex.values,\n",
        "    text=[f'{count} ({percentage:.2f}%)' for count, percentage in zip(fraud_counts_sex.values, fraud_percentages_sex)],\n",
        "    textposition='auto',\n",
        "    marker_color=['rgba(179, 205, 227, 0.8)', 'rgba(251, 180, 174, 0.8)'],\n",
        "    width=0.5\n",
        "))\n",
        "\n",
        "fig.update_layout(\n",
        "    title={\n",
        "        'text': 'Fraud Detection by Sex',\n",
        "        'x': 0.5,\n",
        "        'font': {'family': \"Arial, sans-serif\", 'size': 24}\n",
        "    },\n",
        "    xaxis=dict(\n",
        "        title='Sex',\n",
        "        tickmode='array',\n",
        "        tickvals=fraud_counts_sex.index\n",
        "    ),\n",
        "    yaxis=dict(title='Count'),\n",
        "    showlegend=False,\n",
        "    template=\"plotly_white\"\n",
        ")\n",
        "\n",
        "fig.show()"
      ],
      "metadata": {
        "id": "zXQ7i1a1umAp"
      },
      "execution_count": null,
      "outputs": []
    },
    {
      "cell_type": "markdown",
      "source": [
        "\n",
        "**Fraud Detection by Sex**\n",
        "\n",
        "**Insight:**Males dominate the fraud detection statistics by a significant margin compared to females.\n",
        "\n",
        "**Analysis:** This disparity between the sexes could indicate that men are either more prone to risky behaviors leading to accidents or are more likely to engage in fraudulent activities. The large gap suggests that targeted interventions could focus more on male drivers to curb fraud."
      ],
      "metadata": {
        "id": "CWa-BZdXsFSd"
      }
    },
    {
      "cell_type": "code",
      "source": [
        "df_counts_make = df['Make'].value_counts().sort_index()\n",
        "df_counts_fraud2 = df_fraud['Make'].value_counts().sort_index()\n",
        "df_percentages_fraud2 = pd.DataFrame(round((df_counts_fraud2 / df_counts_make) * 100, 2)).fillna(0).reset_index()\n",
        "\n",
        "df_percentages_fraud2.columns = ['Make', 'Fraud %']\n",
        "df_percentages_fraud2 = df_percentages_fraud2.sort_values(by=['Fraud %', 'Make'])\n",
        "\n",
        "# Bar Chart\n",
        "fig = go.Figure()\n",
        "\n",
        "fig.add_trace(go.Bar(x=df_percentages_fraud2['Fraud %'], y=df_percentages_fraud2['Make'], orientation='h',\n",
        "    marker_color='lightcoral'))\n",
        "\n",
        "fig.update_layout(\n",
        "    title={\n",
        "        'text': 'Fraud Detection by Make',\n",
        "        'x':0.5,\n",
        "        'font': {'family': \"Arial, sans-serif\", 'size': 24}\n",
        "    })\n",
        "\n",
        "fig.show()"
      ],
      "metadata": {
        "id": "LjFsp1B1JKP0"
      },
      "execution_count": null,
      "outputs": []
    },
    {
      "cell_type": "markdown",
      "source": [
        "**Fraud Detection by Make**\n",
        "\n",
        "**Insight:** Mercedes tops the chart as the make most associated with fraud claims, followed by Accura, Saturn, and Saab. On the other hand, luxury brands like Ferrari and Jaguar have the lowest fraud detection numbers.\n",
        "\n",
        "**Analysis:** This could suggest that certain brands might be more frequently involved in fraud cases, possibly because of the demographic or economic status of their owners, or the cost of repairs and insurance associated with the brand. Mercedes, a high-end brand, showing significant fraud could be an indicator of more extensive or high-value fraud attempts."
      ],
      "metadata": {
        "id": "CB8GY_INr5HN"
      }
    },
    {
      "cell_type": "code",
      "source": [
        "df_viz = df.copy()\n",
        "df_fraud = df_viz[df_viz['FraudFound_P'] == 1]"
      ],
      "metadata": {
        "id": "Ee_-g3vO_cWw"
      },
      "execution_count": null,
      "outputs": []
    },
    {
      "cell_type": "code",
      "source": [
        "df_counts_vp = df_viz['VehiclePrice'].value_counts().sort_index()\n",
        "df_counts_fraud3 = df_fraud['VehiclePrice'].value_counts().sort_index()\n",
        "df_percentages_fraud3 = pd.DataFrame(round((df_counts_fraud3 / df_counts_vp) * 100, 2)).fillna(0).reset_index()\n",
        "\n",
        "df_percentages_fraud3.columns = ['VehiclePrice', 'Fraud %']\n",
        "df_percentages_fraud3 = df_percentages_fraud3.sort_values(by=['Fraud %'])\n",
        "\n",
        "# Bar Chart\n",
        "fig = go.Figure()\n",
        "\n",
        "fig.add_trace(go.Bar(x=df_percentages_fraud3['Fraud %'], y=df_percentages_fraud3['VehiclePrice'], orientation='h',\n",
        "    marker_color='#9FF781'))\n",
        "\n",
        "fig.update_layout(\n",
        "    title={\n",
        "        'text': 'Fraud Detection by VehiclePrice',\n",
        "        'x':0.5,\n",
        "        'font': {'family': \"Arial, sans-serif\", 'size': 24}\n",
        "    })\n",
        "\n",
        "fig.update_layout(\n",
        "    xaxis=dict(title='Percentage', range=[0, 16], dtick=2), yaxis=dict(title='VehiclePrice'), legend=dict(title='Outcome'), bargap=0.3)\n",
        "\n",
        "fig.add_shape(\n",
        "    type=\"line\",\n",
        "    x0=6,\n",
        "    y0=0,\n",
        "    x1=6,\n",
        "    y1=5.5,\n",
        "    line=dict(\n",
        "        color=\"rgba(0, 100, 0, 1)\",\n",
        "        width=2,\n",
        "        dash=\"dashdot\",\n",
        "    ),\n",
        ")\n",
        "\n",
        "fig.show()"
      ],
      "metadata": {
        "id": "t0uW9H-A_WGs"
      },
      "execution_count": null,
      "outputs": []
    },
    {
      "cell_type": "markdown",
      "source": [
        " Fraudulent cases were detected most frequently in either the most expensive or the cheapest vehicle category."
      ],
      "metadata": {
        "id": "NsvckrF7_xr5"
      }
    },
    {
      "cell_type": "code",
      "source": [
        "# Age of Vehicle\n",
        "df_counts_ageofvehicle = df_viz['AgeOfVehicle'].value_counts().sort_index()\n",
        "df_counts_fraud6 = df_fraud['AgeOfVehicle'].value_counts().sort_index()\n",
        "df_percentages_fraud6 = pd.DataFrame(round((df_counts_fraud6 / df_counts_ageofvehicle) * 100, 2)).fillna(0).reset_index()\n",
        "\n",
        "df_percentages_fraud6.columns = ['AgeOfVehicle', 'Fraud %']\n",
        "df_percentages_fraud6 = df_percentages_fraud6.sort_values(by=['Fraud %'])\n",
        "\n",
        "# Bar Chart\n",
        "fig = go.Figure()\n",
        "\n",
        "fig.add_trace(go.Bar(x=df_percentages_fraud6['Fraud %'], y=df_percentages_fraud6['AgeOfVehicle'], orientation='h',\n",
        "    marker_color='rgb(255, 165, 0)'))\n",
        "\n",
        "fig.update_layout(\n",
        "    title={\n",
        "        'text': 'Fraud Detection by Age of Vehicle',\n",
        "        'x':0.5,\n",
        "        'font': {'family': \"Arial, sans-serif\", 'size': 24}\n",
        "    })\n",
        "\n",
        "fig.update_layout(\n",
        "    xaxis=dict(title='Percentage', range=[0, 16], dtick=2), yaxis=dict(title='AgeOfVehicle'), legend=dict(title='Outcome'), bargap=0.3)\n",
        "\n",
        "fig.add_shape(\n",
        "    type=\"line\",\n",
        "    x0=6,\n",
        "    y0=-1,\n",
        "    x1=6,\n",
        "    y1=8,\n",
        "    line=dict(\n",
        "        color=\"rgba(0, 100, 0, 1)\",\n",
        "        width=2,\n",
        "        dash=\"dashdot\",\n",
        "    ),\n",
        ")\n",
        "\n",
        "fig.show()"
      ],
      "metadata": {
        "id": "0h-oc48d_8IO"
      },
      "execution_count": null,
      "outputs": []
    },
    {
      "cell_type": "code",
      "source": [
        "from plotly.subplots import make_subplots\n",
        "# Month\n",
        "df_counts_month = df_viz['Month'].value_counts().sort_index()\n",
        "df_counts_fraud7 = df_fraud['Month'].value_counts().sort_index()\n",
        "df_percentages_fraud7 = pd.DataFrame(round((df_counts_fraud7 / df_counts_month) * 100, 2)).fillna(0).reset_index()\n",
        "\n",
        "df_percentages_fraud7.columns = ['Month', 'Fraud %']\n",
        "\n",
        "# MonthClaimed\n",
        "df_counts_monthclaimed = df_viz['MonthClaimed'].value_counts().sort_index()\n",
        "df_counts_fraud8 = df_fraud['MonthClaimed'].value_counts().sort_index()\n",
        "df_percentages_fraud8 = pd.DataFrame(round((df_counts_fraud8 / df_counts_monthclaimed) * 100, 2)).fillna(0).reset_index()\n",
        "\n",
        "df_percentages_fraud8.columns = ['MonthClaimed', 'Fraud %']\n",
        "\n",
        "month_order = ['Jan', 'Feb', 'Mar', 'Apr', 'May', 'Jun', 'Jul', 'Aug', 'Sep', 'Oct', 'Nov', 'Dec']\n",
        "\n",
        "# Bar Chart - Subplots\n",
        "fig = make_subplots(rows=1, cols=2, subplot_titles=('Month', \"MonthClaimed\"))\n",
        "\n",
        "fig.add_trace(go.Bar(x=df_percentages_fraud7['Month'], y=df_percentages_fraud7['Fraud %'],\n",
        "    marker_color='#8A2BE2'), row=1, col=1)\n",
        "\n",
        "fig.add_trace(go.Bar(x=df_percentages_fraud8['MonthClaimed'], y=df_percentages_fraud8['Fraud %'],\n",
        "    marker_color='#FF4500'), row=1, col=2)\n",
        "\n",
        "fig.update_layout(\n",
        "    title={\n",
        "        'text': 'Fraud Detection by Month & MonthClaimed',\n",
        "        'x':0.5,\n",
        "        'font': {'family': \"Arial, sans-serif\", 'size': 24}\n",
        "    }, showlegend=False,\n",
        "    xaxis=dict(categoryorder='array', categoryarray=month_order),\n",
        "    xaxis2=dict(categoryorder='array', categoryarray=month_order))\n",
        "\n",
        "fig.add_shape(\n",
        "    type=\"line\",\n",
        "    x0=-1,\n",
        "    y0=6,\n",
        "    x1=12,\n",
        "    y1=6,\n",
        "    line=dict(\n",
        "        color=\"rgba(128, 128, 128, 1)\",\n",
        "        width=2,\n",
        "        dash=\"dashdot\",\n",
        "    ),\n",
        "    xref=\"x1\",\n",
        "    yref=\"y1\"\n",
        ")\n",
        "\n",
        "fig.add_shape(\n",
        "    type=\"line\",\n",
        "    x0=-1,\n",
        "    y0=6,\n",
        "    x1=12.5,\n",
        "    y1=6,\n",
        "    line=dict(\n",
        "        color=\"rgba(128, 128, 128, 1)\",\n",
        "        width=2,\n",
        "        dash=\"dashdot\",\n",
        "    ),\n",
        "    xref=\"x2\",\n",
        "    yref=\"y2\"\n",
        ")\n",
        "\n",
        "fig.show()"
      ],
      "metadata": {
        "id": "8vEsLCsRC1qD"
      },
      "execution_count": null,
      "outputs": []
    },
    {
      "cell_type": "markdown",
      "source": [
        "The features have similar distributions."
      ],
      "metadata": {
        "id": "6lo5mQ9_C7wM"
      }
    },
    {
      "cell_type": "markdown",
      "source": [
        "###4.Multivariate Analysis"
      ],
      "metadata": {
        "id": "q1vqSTqoJGT8"
      }
    },
    {
      "cell_type": "code",
      "source": [
        "df_male = df[df['Sex'] == 'Male']\n",
        "age_bins = [18, 25, 35, 45, 55, 65, 75, 85]\n",
        "age_labels = ['18-24', '25-34', '35-44', '45-54', '55-64', '65-74', '75+']\n",
        "df_male['AgeRange'] = pd.cut(df_male['Age'], bins=age_bins, labels=age_labels, right=False)\n",
        "\n",
        "age_range_counts = df_male['AgeRange'].value_counts().sort_index()\n",
        "age_range_percentages = (age_range_counts / age_range_counts.sum()) * 100\n",
        "\n",
        "\n",
        "fig = go.Figure()\n",
        "\n",
        "fig.add_trace(go.Bar(\n",
        "    x=age_range_percentages.index,\n",
        "    y=age_range_percentages.values,\n",
        "    text=[f'{percentage:.2f}%' for percentage in age_range_percentages.values],\n",
        "    marker_color='rgba(179, 205, 227, 0.8)',\n",
        "    width=0.5\n",
        "))\n",
        "\n",
        "fig.update_layout(\n",
        "    title={\n",
        "        'text': 'Male Fraud Detection by Age Range',\n",
        "        'x': 0.5,\n",
        "        'font': {'family': \"Arial, sans-serif\", 'size': 24}\n",
        "    },\n",
        "    xaxis=dict(\n",
        "        title='Age Range',\n",
        "        tickmode='array',\n",
        "        tickvals=age_range_percentages.index\n",
        "    ),\n",
        "    yaxis=dict(title='Percentage (%)'),\n",
        "    showlegend=False,\n",
        "    template=\"plotly_white\"\n",
        ")\n",
        "\n",
        "\n",
        "fig.show()"
      ],
      "metadata": {
        "id": "dXjXMgI4CigT"
      },
      "execution_count": null,
      "outputs": []
    },
    {
      "cell_type": "markdown",
      "source": [
        "**Male Fraud Detection by Age Range**\n",
        "\n",
        "**Insight:** The age group 25-34 has the highest fraud detection rate at 32.39%, followed by 35-44 (27.69%), and 45-54 (20.01%). Fraud detections taper off significantly after the age of 54.\n",
        "\n",
        "**Analysis:** This suggests that younger males (especially in their mid-20s to mid-30s) are more likely to be involved in fraudulent claims. The high fraud detection in these age ranges might relate to riskier driving behavior or financial pressure leading to fraudulent activities. As age increases, fraud detections decrease, possibly due to higher responsibility or fewer accidents."
      ],
      "metadata": {
        "id": "mwda_4fJsY_F"
      }
    },
    {
      "cell_type": "code",
      "source": [
        "df_female = df[df['Sex'] == 'Female']\n",
        "age_bins = [18, 25, 35, 45, 55, 65, 75, 85]\n",
        "age_labels = ['18-24', '25-34', '35-44', '45-54', '55-64', '65-74', '75+']\n",
        "\n",
        "df_female['AgeRange'] = pd.cut(df_female['Age'], bins=age_bins, labels=age_labels, right=False)\n",
        "age_range_counts_female = df_female['AgeRange'].value_counts().sort_index()\n",
        "age_range_percentages_female = (age_range_counts_female / age_range_counts_female.sum()) * 100\n",
        "\n",
        "fig = go.Figure()\n",
        "\n",
        "fig.add_trace(go.Bar(\n",
        "    x=age_range_percentages_female.index,\n",
        "    y=age_range_percentages_female.values,\n",
        "    text=[f'{percentage:.2f}%' for percentage in age_range_percentages_female.values],\n",
        "    textposition='auto',\n",
        "    marker_color='rgba(255, 182, 193, 0.8)',\n",
        "    width=0.5\n",
        "))\n",
        "\n",
        "fig.update_layout(\n",
        "    title={\n",
        "        'text': 'Female Fraud Detection by Age Range',\n",
        "        'x': 0.5,\n",
        "        'font': {'family': \"Arial, sans-serif\", 'size': 24}\n",
        "    },\n",
        "    xaxis=dict(\n",
        "        title='Age Range',\n",
        "        tickmode='array',\n",
        "        tickvals=age_range_percentages_female.index\n",
        "    ),\n",
        "    yaxis=dict(title='Percentage (%)'),\n",
        "    showlegend=False,\n",
        "    template=\"plotly_white\"\n",
        ")\n",
        "\n",
        "fig.show()"
      ],
      "metadata": {
        "id": "OPlQwMsPDeQ-"
      },
      "execution_count": null,
      "outputs": []
    },
    {
      "cell_type": "code",
      "source": [
        "df_mercedes_male = df[(df['Make'] == 'Mecedes') & (df['Sex'] == 'Male') & (df['Age'].between(18,85))]\n",
        "\n",
        "\n",
        "age_bins = [18, 25, 35, 45, 55, 65, 75, 85]\n",
        "age_labels = ['18-24', '25-34', '35-44', '45-54', '55-64', '65-74', '75+']\n",
        "df_mercedes_male['AgeRange'] = pd.cut(df_mercedes_male['Age'], bins=age_bins, labels=age_labels, right=False)\n",
        "\n",
        "age_range_counts_mercedes_male = df_mercedes_male['AgeRange'].value_counts().sort_index()\n",
        "age_range_percentages_mercedes_male = (age_range_counts_mercedes_male / age_range_counts_mercedes_male.sum()) * 100\n",
        "\n",
        "fig = go.Figure()\n",
        "\n",
        "fig.add_trace(go.Bar(\n",
        "    x=age_range_percentages_mercedes_male.index,\n",
        "    y=age_range_percentages_mercedes_male.values,\n",
        "    text=[f'{percentage:.2f}%' for percentage in age_range_percentages_mercedes_male.values],\n",
        "    textposition='auto',\n",
        "    marker_color='rgba(179, 205, 227, 0.8)',\n",
        "    width=0.5\n",
        "))\n",
        "\n",
        "fig.update_layout(\n",
        "    title={\n",
        "        'text': \"Fraud Detection by Mercedes, Male, and Age Ranges\",\n",
        "        'x': 0.5,\n",
        "        'font': {'family': \"Arial, sans-serif\", 'size': 24}\n",
        "    },\n",
        "    xaxis=dict(\n",
        "        title='Age Range',\n",
        "        tickmode='array',\n",
        "        tickvals=age_range_percentages_mercedes_male.index\n",
        "    ),\n",
        "    yaxis=dict(title='Percentage (%)'),\n",
        "    showlegend=False,\n",
        "    template=\"plotly_white\"\n",
        ")\n",
        "\n",
        "fig.show()"
      ],
      "metadata": {
        "id": "vto7dhJxFW-Y"
      },
      "execution_count": null,
      "outputs": []
    },
    {
      "cell_type": "code",
      "source": [
        "import plotly.graph_objects as go\n",
        "df_accura_male = df[(df['Make'] == 'Accura') & (df['Sex'] == 'Male') & (df['Age'].between(18, 85))]\n",
        "age_bins = [18, 25, 35, 45, 55, 65, 75, 85]\n",
        "age_labels = ['18-24', '25-34', '35-44', '45-54', '55-64', '65-74', '75+']\n",
        "\n",
        "\n",
        "df_accura_male['AgeRange'] = pd.cut(df_accura_male['Age'], bins=age_bins, labels=age_labels, right=False)\n",
        "age_range_counts_accura_male = df_accura_male['AgeRange'].value_counts().sort_index()\n",
        "\n",
        "\n",
        "age_range_percentages_accura_male = (age_range_counts_accura_male / age_range_counts_accura_male.sum()) * 100\n",
        "\n",
        "\n",
        "fig = go.Figure()\n",
        "\n",
        "fig.add_trace(go.Bar(\n",
        "    x=age_range_percentages_accura_male.index,\n",
        "    y=age_range_percentages_accura_male.values,\n",
        "    text=[f'{percentage:.2f}%' for percentage in age_range_percentages_accura_male.values],\n",
        "    textposition='auto',\n",
        "    marker_color='rgba(179, 205, 227, 0.8)',\n",
        "    width=0.5\n",
        "))\n",
        "\n",
        "fig.update_layout(\n",
        "    title={\n",
        "        'text': \"Fraud Detection by Accura, Male, and Age Ranges\",\n",
        "        'x': 0.5,\n",
        "        'font': {'family': \"Arial, sans-serif\", 'size': 24}\n",
        "    },\n",
        "    xaxis=dict(\n",
        "        title='Age Range',\n",
        "        tickmode='array',\n",
        "        tickvals=age_range_percentages_accura_male.index\n",
        "    ),\n",
        "    yaxis=dict(title='Percentage (%)'),\n",
        "    showlegend=False,\n",
        "    template=\"plotly_white\"\n",
        ")\n",
        "\n",
        "\n",
        "fig.show()"
      ],
      "metadata": {
        "id": "7QPpAzL2Fxks"
      },
      "execution_count": null,
      "outputs": []
    },
    {
      "cell_type": "code",
      "source": [
        "numerical_cols = df.select_dtypes(include=['int64', 'float64']).columns\n",
        "\n",
        "# Correlation matrix heatmap\n",
        "plt.figure(figsize=(10, 8))\n",
        "sns.heatmap(df[numerical_cols].corr(), annot=True, cmap='coolwarm', linewidths=0.5)\n",
        "plt.title('Correlation Heatmap of Numerical Features', fontsize=16)\n",
        "plt.show()"
      ],
      "metadata": {
        "id": "gu3qW1GT6Sww"
      },
      "execution_count": null,
      "outputs": []
    },
    {
      "cell_type": "markdown",
      "source": [
        "FraudFound_P:\n",
        "\n",
        "This is the target variable, and it shows low correlations with other features (the highest absolute value is around 0.03 with Age). This suggests that none of the numerical features have a strong linear relationship with fraud detection, indicating that perhaps more complex relationships (non-linear) exist or categorical variables may play a larger role."
      ],
      "metadata": {
        "id": "UbSHSkllKF8b"
      }
    },
    {
      "cell_type": "markdown",
      "source": [
        "PolicyNumber and Year:\n",
        "\n",
        "These two variables have a very high correlation of 0.94. This could indicate that policy numbers might follow a pattern based on the year they were issued, potentially leading to redundancy. we might consider removing one of these features to avoid multicollinearity issues."
      ],
      "metadata": {
        "id": "pfcUlvr6KU_g"
      }
    },
    {
      "cell_type": "markdown",
      "source": [
        "#Conclusion:"
      ],
      "metadata": {
        "id": "3zTRDzZe6vk1"
      }
    },
    {
      "cell_type": "markdown",
      "source": [
        "1/There is no missing value.\n",
        "\n",
        "2/\"PolicyNumber\" is merely an identification number. Let's drop it.\n",
        "\n",
        "3/The features \"Sex\", \"PoliceReportFiled\", and \"WitnessPresent\" are actually Boolen Types. Should be converted to 0 or 1.\n",
        "\n",
        "4/The features \"AccidentalArea\", \"Fault\", and \"AgentType\" each have only two unique values. Can also be converted to 0 or 1.\n",
        "\n",
        "5/The minimum value of \"Age\" is 0. It totally doesn't make sense.\n",
        "\n",
        "6/The features \"FraudFound_P\" and \"Deductible\" are highly skewed; Typically, a feature is considered skewed if its skewness falls outside the range of\n",
        " -0.5~0.5.\n",
        "\n",
        " Since \"FraudFound_P\" and \"Deductible\" have skewness values outside this range, their distributions likely have pronounced tails, meaning that either small or large values are more frequent. This is essential to know, as highly skewed data can impact the performance of many machine learning models, particularly those sensitive to outliers or that assume normality (e.g., linear regression). **In such cases, transforming the data (e.g., using log, square root, or Box-Cox transformations) might be helpful to reduce skewness.**\n",
        "\n",
        "\n",
        "\n",
        "7/The features \"WeekOfMonth\", \"WeekOfMonthClaimed\", \"FraudFound_P\", \"Deductible\", and \"DriverRating\" exhibit high kurtosis; Typically a feature is considered to have high kurtosis if its value falls outside the range of -1 ~ 1.\n",
        "\n",
        "8/Among all the features, **only Age is a numeric variable**. The rest can be interpreted as categorical variables.\n",
        "\n",
        "9/The Target Variable \"Fraud_Found_P\" is **highly imbalanced**.\n",
        "\n",
        "10/Males are significantly more likely to be involved in detected fraud cases compared to females."
      ],
      "metadata": {
        "id": "PpM-G5UW60Iz"
      }
    },
    {
      "cell_type": "markdown",
      "source": [
        "**Issues Caused by Imbalanced Target Variable:**\n",
        "\n",
        "**Model Bias:**The model may become biased towards the majority class, leading to poor performance on the minority class.\n",
        "\n",
        "**Misleading Metrics:** Metrics like accuracy can be misleading, as high accuracy can be achieved by simply predicting the majority class.\n",
        "\n",
        "**Poor Generalization:** The model may not generalize well to real-world scenarios where the minority class is important.\n",
        "\n",
        "**=>Necessity of Oversampling:**\n",
        "Oversampling address these issues by balancing the dataset, which helps the model to learn from both classes more effectively. This improves the model's ability to correctly predict the minority class, leading to better overall performance and more reliable evaluation metrics.\n",
        "\n",
        "\n",
        "**Impoved Model Performance:** In cases of severe class imbalance, the model may become biased towards the majority class, leading to poor performance on the minority class. Oversampling helps mitigate this issue, enhancing the overall performance of the model.\n",
        "\n",
        "**Enhanced Evaluation Metrics:** With severe class imbalance, metrics like accuracy can be misleading. Oversampling allows for more accurate assessment of metrics such as Precision, Recall, and F-1 Score.\n",
        "\n",
        "**Balanced Learning:**Balancing the dataset ensures that the model learns from all classes evenly. This leads to better performance across various scenarios when the model is deployed in real-world applications."
      ],
      "metadata": {
        "id": "Qz4P2hIH9GPn"
      }
    }
  ]
}